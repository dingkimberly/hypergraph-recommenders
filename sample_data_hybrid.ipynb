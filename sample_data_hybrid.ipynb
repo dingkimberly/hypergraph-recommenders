{
 "cells": [
  {
   "cell_type": "code",
   "execution_count": 1,
   "metadata": {},
   "outputs": [],
   "source": [
    "import pandas as pd\n",
    "import numpy as np\n",
    "import matplotlib.pyplot as plt\n",
    "\n",
    "from scipy import sparse"
   ]
  },
  {
   "cell_type": "markdown",
   "metadata": {},
   "source": [
    "# Constructing hypergraphs and corresponding comparison graphs"
   ]
  },
  {
   "cell_type": "code",
   "execution_count": 2,
   "metadata": {},
   "outputs": [],
   "source": [
    "# We want the nonzero rows of W and R to sum to 1 \n",
    "def row_normalize(X):\n",
    "    Y = np.matrix.copy(X)\n",
    "    for i in range(len(Y)):\n",
    "        row = Y[i]\n",
    "        row_sum = np.sum(row)\n",
    "        if row_sum != 0:\n",
    "            Y[i] = Y[i]/row_sum   \n",
    "    return Y"
   ]
  },
  {
   "cell_type": "code",
   "execution_count": 3,
   "metadata": {},
   "outputs": [],
   "source": [
    "# E: number of users\n",
    "# V: number of items\n",
    "# p: chance certain user watches certain movie\n",
    "# e1: chance edge weight is flipped\n",
    "# e2: chance user rating is flipped\n",
    "# e3: chance user rating is erased\n",
    "def make_hypergraphs(E, V, p, e1, e2, e3, random_seed):\n",
    "    np.random.seed(random_seed)\n",
    "    \n",
    "    n = int(E/3)\n",
    "    m = int(V/3)\n",
    "    \n",
    "    W = np.random.rand(V, E) # hyperedge-weight matrix, |V| x |E|, each row corresponds to a movie. \n",
    "    num_pairs = 0\n",
    "\n",
    "    for i in range(V):\n",
    "        for j in range(E):\n",
    "            if W[i][j] < p:\n",
    "                W[i][j] = 1\n",
    "\n",
    "                num_pairs += 1\n",
    "            else:\n",
    "                W[i][j] = 0\n",
    "                \n",
    "    given_R = np.zeros((E, V)) # edge-dependent vertex-weight matrix, |E| x |V|, each row corresponds to a user.\n",
    "    true_R = np.zeros((E, V)) # true ratings\n",
    "\n",
    "    for i in range(V):\n",
    "        for j in range(E):\n",
    "            if W[i][j] == 1:\n",
    "                if i // n == j // m:\n",
    "                    true_R[j][i] = 5\n",
    "                else:\n",
    "                    true_R[j][i] = 1\n",
    "\n",
    "                err = np.random.rand(1)\n",
    "                if err < e2:\n",
    "                    given_R[j][i] = 6 - true_R[j][i]\n",
    "                elif err >= e2 and err < e2 + e3:\n",
    "                    W[i][j] == 0\n",
    "                    # do nothing as R[j][i] is already 0\n",
    "                else:\n",
    "                    given_R[j][i] = true_R[j][i]\n",
    "                    \n",
    "                    \n",
    "    W1 = np.zeros((V+E, num_pairs+3)) # hyperedge weight matrix, weights are ratings x 10 IF user likes category\n",
    "    W2 = np.zeros((V+E, num_pairs+3)) # otherwise 1\n",
    "    W3 = np.zeros((V+E, num_pairs+3))                            \n",
    "\n",
    "    R = np.zeros((num_pairs+3, V+E)) # edge-dependent vertex weight matrix, weights are 1\n",
    "\n",
    "    curr_edge_index = 0 \n",
    "\n",
    "    for i in range(V):\n",
    "        for j in range(E):\n",
    "            if given_R[j][i] != 0:\n",
    "                # movie index = i\n",
    "                # user index = V+j\n",
    "\n",
    "                R[curr_edge_index][V+j] = 1\n",
    "                R[curr_edge_index][i] = 1\n",
    "\n",
    "                W1[V+j][curr_edge_index] = given_R[j][i]\n",
    "                W1[i][curr_edge_index] = given_R[j][i]\n",
    "                \n",
    "                W2[V+j][curr_edge_index] = given_R[j][i]\n",
    "                W2[i][curr_edge_index] = given_R[j][i]\n",
    "\n",
    "                W3[V+j][curr_edge_index] = given_R[j][i]\n",
    "                W3[i][curr_edge_index] = given_R[j][i]\n",
    "\n",
    "                curr_edge_index += 1\n",
    "    \n",
    "    for i in range(V):\n",
    "        if i < m:\n",
    "            W1[i][num_pairs] = 100\n",
    "            W2[i][num_pairs] = 1\n",
    "            W3[i][num_pairs] = 1\n",
    "            R[num_pairs][i] = 1\n",
    "        elif i < 2 * m and i >= m:\n",
    "            W1[i][num_pairs+1] = 1\n",
    "            W2[i][num_pairs+1] = 100\n",
    "            W3[i][num_pairs+1] = 1\n",
    "            R[num_pairs+1][i] = 1\n",
    "        elif i >= 2 * m:\n",
    "            W1[i][num_pairs+2] = 1\n",
    "            W2[i][num_pairs+2] = 1\n",
    "            W3[i][num_pairs+2] = 100\n",
    "            R[num_pairs+2][i] = 1\n",
    "                \n",
    "    for j in range(E):\n",
    "        if j < n:\n",
    "            W1[V+j][num_pairs] = 100\n",
    "            W2[V+j][num_pairs] = 1\n",
    "            W3[V+j][num_pairs] = 1\n",
    "            R[num_pairs][i] = 1\n",
    "        elif i < 2 * m and i >= m:\n",
    "            W1[V+j][num_pairs+1] = 1\n",
    "            W2[V+j][num_pairs+1] = 100\n",
    "            W3[V+j][num_pairs+1] = 1\n",
    "            R[num_pairs+1][V+j] = 1\n",
    "        elif i >= 2 * m:\n",
    "            W1[V+j][num_pairs+2] = 1\n",
    "            W2[V+j][num_pairs+2] = 1\n",
    "            W3[V+j][num_pairs+2] = 100\n",
    "            R[num_pairs+2][V+j] = 1\n",
    "                \n",
    "    W1s = sparse.csr_matrix(row_normalize(W1))\n",
    "    W2s = sparse.csr_matrix(row_normalize(W2))\n",
    "    W3s = sparse.csr_matrix(row_normalize(W3))\n",
    "    Rs = sparse.csr_matrix(row_normalize(R))\n",
    "\n",
    "    # create prob trans matrices\n",
    "    P1 = np.transpose(W1s.dot(Rs))\n",
    "    P2 = np.transpose(W2s.dot(Rs))\n",
    "    P3 = np.transpose(W3s.dot(Rs))\n",
    "\n",
    "    return P1, P2, P3, R, given_R, true_R"
   ]
  },
  {
   "cell_type": "markdown",
   "metadata": {},
   "source": [
    "# Computing personalized PageRank rankings"
   ]
  },
  {
   "cell_type": "code",
   "execution_count": 4,
   "metadata": {},
   "outputs": [],
   "source": [
    "# given probability transition matrix P\n",
    "# where P_{v,w} = Prob(w -> v)\n",
    "# find pagerank scores with restart probability r\n",
    "def compute_pr(P, r, n, home, eps=1e-8):\n",
    "    \n",
    "    x = np.ones(n) / n*1.0\n",
    "\n",
    "    flag = True\n",
    "    t=0\n",
    "        \n",
    "    while flag:\n",
    "        x_new = (1-r)*P*x\n",
    "\n",
    "        x_new = x_new + home * r \n",
    "        \n",
    "        if np.linalg.norm(x_new - x,ord=1) < eps and t > 100:\n",
    "            flag = False\n",
    "        t=t+1\n",
    "        x = x_new\n",
    "    \n",
    "    return x"
   ]
  },
  {
   "cell_type": "code",
   "execution_count": 5,
   "metadata": {},
   "outputs": [],
   "source": [
    "def get_rankings(E, V, R, P1, P2, P3, r):\n",
    "    \n",
    "    rankings_hg = np.zeros((E, V)) # each row corresponds to a user. \n",
    "    n = int(E/3)\n",
    "    \n",
    "    for i in range(E):\n",
    "\n",
    "        if i < n:\n",
    "            P = P1\n",
    "        elif i < 2 * n:\n",
    "            P = P2\n",
    "        else: \n",
    "            P = P3\n",
    "\n",
    "        # personalize the algorithm by restarting at any of the movies a certain user originally watched\n",
    "\n",
    "        home_hg = np.zeros(V+E)\n",
    "        home_hg[V+i] = 1\n",
    "\n",
    "        curr_rankings_hg = compute_pr(P, r, V+E, home_hg).flatten()\n",
    "        rankings_hg[i,:] = curr_rankings_hg[:V]\n",
    "        \n",
    "    return rankings_hg"
   ]
  },
  {
   "cell_type": "markdown",
   "metadata": {},
   "source": [
    "# Evaluating rankings"
   ]
  },
  {
   "cell_type": "code",
   "execution_count": 6,
   "metadata": {},
   "outputs": [],
   "source": [
    "# Source: https://www.aaai.org/Papers/IJCAI/2007/IJCAI07-444.pdf\n",
    "def calc_avg_doa(num_users, num_movies, ratings, rankings):\n",
    "    \n",
    "    n = num_users/3\n",
    "    m = num_movies/3\n",
    "    \n",
    "    total_pairs = 0\n",
    "    correct_pairs = 0\n",
    "    \n",
    "    # All pairs of movies. \n",
    "    for i in range(num_movies):\n",
    "        for j in range(i+1, num_movies):\n",
    "            for user in range(num_users):\n",
    "\n",
    "                if i // m != j // m:\n",
    "                    if user // n == i // m:\n",
    "                        total_pairs += 1\n",
    "                        if rankings[user][i] > rankings[user][j]:\n",
    "                            correct_pairs += 1\n",
    "                    elif user // n == j // m:\n",
    "                        total_pairs += 1\n",
    "                        if rankings[user][i] < rankings[user][j]:\n",
    "                            correct_pairs += 1\n",
    "       \n",
    "    if total_pairs == 0:\n",
    "        return -1\n",
    "    return correct_pairs/total_pairs\n",
    "\n",
    "def calc_avg_udoa(num_users, num_movies, ratings, rankings):\n",
    "    \n",
    "    n = num_users/3\n",
    "    m = num_movies/3\n",
    "    \n",
    "    total_pairs = 0\n",
    "    correct_pairs = 0\n",
    "    \n",
    "    # All pairs of movies. \n",
    "    for i in range(num_movies):\n",
    "        for j in range(i+1, num_movies):\n",
    "            for user in range(num_users):\n",
    "                \n",
    "                if ratings[user][i] == 0 and ratings[user][j] == 0:\n",
    "                    if i // m != j // m:\n",
    "                        if user // n == i // m:\n",
    "                            total_pairs += 1\n",
    "                            if rankings[user][i] > rankings[user][j]:\n",
    "                                correct_pairs += 1\n",
    "                        elif user // n == j // m:\n",
    "                            total_pairs += 1\n",
    "                            if rankings[user][i] < rankings[user][j]:\n",
    "                                correct_pairs += 1\n",
    "       \n",
    "    if total_pairs == 0:\n",
    "        return -1\n",
    "    return correct_pairs/total_pairs"
   ]
  },
  {
   "cell_type": "code",
   "execution_count": 7,
   "metadata": {},
   "outputs": [],
   "source": [
    "def do_everything(E, V, p, e1, e2, e3, random_seed):\n",
    "    \n",
    "    n = int(E/3)\n",
    "    m = int(V/3)\n",
    "    \n",
    "    P1, P2, P3, R, given_R, true_R = make_hypergraphs(E, V, p, e1, e2, e3, random_seed)\n",
    "\n",
    "    rankings_hg = get_rankings(E, V, R, P1, P2, P3, 0.15)\n",
    "    \n",
    "    avgdoa = calc_avg_doa(E, V, true_R, rankings_hg)\n",
    "  \n",
    "    avgudoa = calc_avg_udoa(E, V, true_R, rankings_hg)\n",
    "\n",
    "    return avgdoa, avgudoa"
   ]
  },
  {
   "cell_type": "code",
   "execution_count": 8,
   "metadata": {},
   "outputs": [],
   "source": [
    "# To remove the effects of randomness, average results generated by many random seeds. \n",
    "def do_everything_n_times(E, V, p, e1, e2, e3, n):\n",
    "    print(\"n=%d, p=%.3f, e1=%.3f, e2=%.3f, e3=%.3f\" % (n, p, e1, e2, e3))\n",
    "    \n",
    "    if n == 0:\n",
    "        return\n",
    "    \n",
    "    d = 0\n",
    "    ud = 0\n",
    "    \n",
    "    for i in range(n):\n",
    "        d1, ud1 = do_everything(E, V, p, e1, e2, e3, i)\n",
    "        d += d1\n",
    "        ud += ud1\n",
    "        \n",
    "    d = d/n\n",
    "    ud = ud/n\n",
    "\n",
    "    return d, ud"
   ]
  },
  {
   "cell_type": "markdown",
   "metadata": {},
   "source": [
    "# Running"
   ]
  },
  {
   "cell_type": "code",
   "execution_count": 9,
   "metadata": {},
   "outputs": [],
   "source": [
    "n = 50\n",
    "m = 50\n",
    "    \n",
    "E = 3 * n # number of \"users\"\n",
    "V = 3 * m # number of \"movies"
   ]
  },
  {
   "cell_type": "code",
   "execution_count": 10,
   "metadata": {},
   "outputs": [],
   "source": [
    "probs = np.linspace(0, 1, num=11)\n",
    "num_probs = len(probs)\n",
    "\n",
    "#e1_hg = np.zeros(num_probs)\n",
    "e2_hg = np.zeros(num_probs)\n",
    "e3_hg = np.zeros(num_probs)\n",
    "\n",
    "#e1_hg_u = np.zeros(num_probs)\n",
    "e2_hg_u = np.zeros(num_probs)\n",
    "e3_hg_u = np.zeros(num_probs)"
   ]
  },
  {
   "cell_type": "code",
   "execution_count": 11,
   "metadata": {},
   "outputs": [
    {
     "name": "stdout",
     "output_type": "stream",
     "text": [
      "n=10, p=0.150, e1=0.000, e2=0.000, e3=0.000\n"
     ]
    }
   ],
   "source": [
    "d_hg, ud_hg = do_everything_n_times(E, V, 0.15, 0, 0, 0, 10)\n",
    "\n",
    "#e1_hg[0] = d_hg\n",
    "e2_hg[0] = d_hg\n",
    "e3_hg[0] = d_hg\n",
    "\n",
    "#e1_hg_u[0] = ud_hg\n",
    "e2_hg_u[0] = ud_hg\n",
    "e3_hg_u[0] = ud_hg"
   ]
  },
  {
   "cell_type": "code",
   "execution_count": 14,
   "metadata": {},
   "outputs": [
    {
     "name": "stdout",
     "output_type": "stream",
     "text": [
      "n=10, p=0.150, e1=0.100, e2=0.000, e3=0.000\n",
      "n=10, p=0.150, e1=0.000, e2=0.100, e3=0.000\n",
      "n=10, p=0.150, e1=0.000, e2=0.000, e3=0.100\n",
      "\n",
      "n=10, p=0.150, e1=0.200, e2=0.000, e3=0.000\n",
      "n=10, p=0.150, e1=0.000, e2=0.200, e3=0.000\n",
      "n=10, p=0.150, e1=0.000, e2=0.000, e3=0.200\n",
      "\n",
      "n=10, p=0.150, e1=0.300, e2=0.000, e3=0.000\n",
      "n=10, p=0.150, e1=0.000, e2=0.300, e3=0.000\n",
      "n=10, p=0.150, e1=0.000, e2=0.000, e3=0.300\n",
      "\n",
      "n=10, p=0.150, e1=0.400, e2=0.000, e3=0.000\n",
      "n=10, p=0.150, e1=0.000, e2=0.400, e3=0.000\n",
      "n=10, p=0.150, e1=0.000, e2=0.000, e3=0.400\n",
      "\n",
      "n=10, p=0.150, e1=0.500, e2=0.000, e3=0.000\n",
      "n=10, p=0.150, e1=0.000, e2=0.500, e3=0.000\n",
      "n=10, p=0.150, e1=0.000, e2=0.000, e3=0.500\n",
      "\n",
      "n=10, p=0.150, e1=0.600, e2=0.000, e3=0.000\n",
      "n=10, p=0.150, e1=0.000, e2=0.600, e3=0.000\n",
      "n=10, p=0.150, e1=0.000, e2=0.000, e3=0.600\n",
      "\n",
      "n=10, p=0.150, e1=0.700, e2=0.000, e3=0.000\n",
      "n=10, p=0.150, e1=0.000, e2=0.700, e3=0.000\n",
      "n=10, p=0.150, e1=0.000, e2=0.000, e3=0.700\n",
      "\n",
      "n=10, p=0.150, e1=0.800, e2=0.000, e3=0.000\n",
      "n=10, p=0.150, e1=0.000, e2=0.800, e3=0.000\n",
      "n=10, p=0.150, e1=0.000, e2=0.000, e3=0.800\n",
      "\n",
      "n=10, p=0.150, e1=0.900, e2=0.000, e3=0.000\n",
      "n=10, p=0.150, e1=0.000, e2=0.900, e3=0.000\n",
      "n=10, p=0.150, e1=0.000, e2=0.000, e3=0.900\n",
      "\n",
      "n=10, p=0.150, e1=1.000, e2=0.000, e3=0.000\n",
      "n=10, p=0.150, e1=0.000, e2=1.000, e3=0.000\n",
      "n=10, p=0.150, e1=0.000, e2=0.000, e3=1.000\n",
      "\n"
     ]
    }
   ],
   "source": [
    "for i in range(1, num_probs):\n",
    "    prob = probs[i]\n",
    "    \n",
    "  #  testing e1 no longer makes sense\n",
    "#    e1hg, e1hgu = do_everything_n_times(E, V, 0.15, prob, 0, 0, 10)\n",
    "#    \n",
    " #   e1_hg[i] = e1hg\n",
    " #   e1_hg_u[i] = e1hgu\n",
    "    \n",
    "    e2hg, e2hgu = do_everything_n_times(E, V, 0.15, 0, prob, 0, 10)\n",
    "    \n",
    "    e2_hg[i] = e2hg\n",
    "    e2_hg_u[i] = e2hgu\n",
    "    \n",
    "    e3hg, e3hgu = do_everything_n_times(E, V, 0.15, 0, 0, prob, 10)\n",
    "    \n",
    "    e3_hg[i] = e3hg\n",
    "    e3_hg_u[i] = e3hgu\n",
    "\n",
    "    print()"
   ]
  },
  {
   "cell_type": "code",
   "execution_count": 16,
   "metadata": {},
   "outputs": [
    {
     "data": {
      "image/png": "[encoded data removed]",
      "text/plain": [
       "<matplotlib.figure.Figure at 0x10fc2b7f0>"
      ]
     },
     "metadata": {},
     "output_type": "display_data"
    }
   ],
   "source": [
    "plt.scatter(probs, e2_hg)\n",
    "plt.plot(probs, e2_hg, label='Hypergraph')\n",
    "plt.legend(loc='upper right')\n",
    "plt.xlabel('Probability of reversed edge-dependent vertex weight')\n",
    "plt.ylabel('DOA')\n",
    "plt.show()"
   ]
  },
  {
   "cell_type": "code",
   "execution_count": 17,
   "metadata": {},
   "outputs": [
    {
     "data": {
      "image/png": "[encoded data removed]",
      "text/plain": [
       "<matplotlib.figure.Figure at 0x1115126a0>"
      ]
     },
     "metadata": {},
     "output_type": "display_data"
    }
   ],
   "source": [
    "plt.scatter(probs, e3_hg)\n",
    "plt.plot(probs, e3_hg, label='Hypergraph')\n",
    "plt.legend(loc='upper right')\n",
    "plt.xlabel('Probability of erased edge-dependent vertex weight')\n",
    "plt.ylabel('DOA')\n",
    "plt.show()"
   ]
  },
  {
   "cell_type": "code",
   "execution_count": 19,
   "metadata": {},
   "outputs": [
    {
     "data": {
      "image/png": "[encoded data removed]",
      "text/plain": [
       "<matplotlib.figure.Figure at 0x10b2c0d30>"
      ]
     },
     "metadata": {},
     "output_type": "display_data"
    }
   ],
   "source": [
    "plt.scatter(probs, e2_hg_u)\n",
    "plt.plot(probs, e2_hg_u, label='Hypergraph')\n",
    "plt.legend(loc='upper right')\n",
    "plt.xlabel('Probability of reversed edge-dependent vertex weight')\n",
    "plt.ylabel('UDOA')\n",
    "plt.show()"
   ]
  },
  {
   "cell_type": "code",
   "execution_count": 20,
   "metadata": {},
   "outputs": [
    {
     "data": {
      "image/png": "[encoded data removed]",
      "text/plain": [
       "<matplotlib.figure.Figure at 0x110defdd8>"
      ]
     },
     "metadata": {},
     "output_type": "display_data"
    }
   ],
   "source": [
    "plt.scatter(probs, e3_hg_u)\n",
    "plt.plot(probs, e3_hg_u, label='Hypergraph')\n",
    "plt.legend(loc='upper right')\n",
    "plt.xlabel('Probability of erased edge-dependent vertex weight')\n",
    "plt.ylabel('UDOA')\n",
    "plt.show()"
   ]
  },
  {
   "cell_type": "code",
   "execution_count": null,
   "metadata": {},
   "outputs": [],
   "source": []
  }
 ],
 "metadata": {
  "kernelspec": {
   "display_name": "Python 3",
   "language": "python",
   "name": "python3"
  },
  "language_info": {
   "codemirror_mode": {
    "name": "ipython",
    "version": 3
   },
   "file_extension": ".py",
   "mimetype": "text/x-python",
   "name": "python",
   "nbconvert_exporter": "python",
   "pygments_lexer": "ipython3",
   "version": "3.6.6"
  }
 },
 "nbformat": 4,
 "nbformat_minor": 2
}
