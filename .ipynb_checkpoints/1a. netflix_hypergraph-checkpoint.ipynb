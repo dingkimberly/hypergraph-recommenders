{
 "cells": [
  {
   "cell_type": "code",
   "execution_count": 1,
   "metadata": {},
   "outputs": [],
   "source": [
    "import pandas as pd\n",
    "import numpy as np\n",
    "import csv\n",
    "\n",
    "from scipy import sparse\n",
    "\n",
    "# references: \n",
    "# https://github.com/uthsavc/hypergraph-halo-ranking.git\n",
    "# https://arxiv.org/pdf/1905.08287.pdf"
   ]
  },
  {
   "cell_type": "markdown",
   "metadata": {},
   "source": [
    "# Loading data"
   ]
  },
  {
   "cell_type": "code",
   "execution_count": 2,
   "metadata": {},
   "outputs": [],
   "source": [
    "max_users = 100 # E. can go up to 480189.\n",
    "max_movies = 500 # V. can go up to 17770\n",
    "\n",
    "E = max_users\n",
    "V = max_movies \n",
    "\n",
    "# initializing to some values, will add rows/columns as seen fit \n",
    "W = np.zeros((V, E)) # hyperedge-weight matrix, |V|x |E|, each row corresponds to a movie. \n",
    "R = np.zeros((E, V)) # edge-dependent vertex-weight matrix, |E| x |V|, each row corresponds to a user.\n",
    "all_ratings = np.zeros((E, V))\n",
    "erase_prob = 0.15"
   ]
  },
  {
   "cell_type": "markdown",
   "metadata": {},
   "source": [
    "First we load all the data into a nice hypergraph. "
   ]
  },
  {
   "cell_type": "code",
   "execution_count": 3,
   "metadata": {},
   "outputs": [],
   "source": [
    "curr_avail_user_index = 0\n",
    "curr_movie_index = -1\n",
    "user_dict = {} \n",
    "\n",
    "# for the regular graph\n",
    "num_pairs = 0\n",
    "\n",
    "# Initial strategy is to use ratings as vertex weights and set hyperedge weights to 1 (if they exist).\n",
    "with open('combined_data_1.txt') as csv_file:\n",
    "    csv_reader = csv.reader(csv_file, delimiter=',')\n",
    "    for row in csv_reader:\n",
    "        \n",
    "        # New movie. \n",
    "        if len(row) == 1:\n",
    "            label = row[0]\n",
    "            label = label[:len(label)-1]\n",
    "            curr_movie_index = int(label)-1\n",
    "            if curr_movie_index >= max_movies:\n",
    "                break\n",
    "                \n",
    "        elif len(row) == 3:\n",
    "            user_label = int(row[0])\n",
    "            rating = int(row[1])\n",
    "            \n",
    "            # Since user ids have gaps between numbers, we map user ids to indices\n",
    "            user_index = user_dict.get(user_label)\n",
    "\n",
    "            # New user. \n",
    "            if user_index == None:\n",
    "                if curr_avail_user_index < max_users:\n",
    "                    user_dict[user_label] = curr_avail_user_index\n",
    "                    user_index = curr_avail_user_index\n",
    "                    curr_avail_user_index += 1\n",
    "                else:\n",
    "                    continue\n",
    "\n",
    "            \n",
    "            err = np.random.rand(1)\n",
    "            if err > erase_prob:\n",
    "                W[curr_movie_index][user_index] = 1\n",
    "                R[user_index][curr_movie_index] = rating\n",
    "            \n",
    "                num_pairs += 1\n",
    "                \n",
    "            all_ratings[user_index][curr_movie_index] = rating"
   ]
  },
  {
   "cell_type": "markdown",
   "metadata": {},
   "source": [
    "We also create a second hypergraph, which is the equivalent of a regular graph, for comparison purposes. Each movie-user pair gets an edge with a weight equal to the movie's edge-dependent vertex weight in the hypergraph. Vertex weights are all 1 (trivial, edge-independent). "
   ]
  },
  {
   "cell_type": "code",
   "execution_count": 4,
   "metadata": {},
   "outputs": [],
   "source": [
    "WG = np.zeros((V+E, num_pairs)) # hyperedge weight matrix, weights are ratings\n",
    "RG = np.zeros((num_pairs, V+E)) # edge-dependent vertex weight matrix, weights are 1\n",
    "\n",
    "curr_edge_index = 0 \n",
    "\n",
    "for i in range(E):\n",
    "    for j in range(V):\n",
    "        if R[i][j] != 0:\n",
    "            # movie index = j\n",
    "            # user index = V+i\n",
    "            \n",
    "            RG[curr_edge_index][V+i] = 1\n",
    "            RG[curr_edge_index][j] = 1\n",
    "            \n",
    "            WG[V+i][curr_edge_index] = R[i][j]\n",
    "            WG[j][curr_edge_index] = R[i][j]\n",
    "            \n",
    "            curr_edge_index += 1"
   ]
  },
  {
   "cell_type": "code",
   "execution_count": 5,
   "metadata": {},
   "outputs": [],
   "source": [
    "# We want the nonzero rows of W and R to sum to 1 \n",
    "def row_normalize(X):\n",
    "    Y = np.matrix.copy(X)\n",
    "    for i in range(len(Y)):\n",
    "        row = Y[i]\n",
    "        row_sum = np.sum(row)\n",
    "        if row_sum != 0:\n",
    "            Y[i] = Y[i]/row_sum   \n",
    "    return Y\n",
    "\n",
    "Wn = row_normalize(W) \n",
    "Rn = row_normalize(R)\n",
    "\n",
    "WGn = row_normalize(WG)\n",
    "RGn = row_normalize(RG)"
   ]
  },
  {
   "cell_type": "code",
   "execution_count": 6,
   "metadata": {},
   "outputs": [],
   "source": [
    "Ws = sparse.csr_matrix(Wn)\n",
    "Rs = sparse.csr_matrix(Rn)\n",
    "\n",
    "WGs = sparse.csr_matrix(WGn)\n",
    "RGs = sparse.csr_matrix(RGn)\n",
    "\n",
    "# create prob trans matrices\n",
    "P = np.transpose(Ws.dot(Rs))\n",
    "PG = np.transpose(WGs.dot(RGs))"
   ]
  },
  {
   "cell_type": "markdown",
   "metadata": {},
   "source": [
    "# Computing personalized PageRank rankings"
   ]
  },
  {
   "cell_type": "code",
   "execution_count": 7,
   "metadata": {},
   "outputs": [],
   "source": [
    "# given probability transition matrix P\n",
    "# where P_{v,w} = Prob(w -> v)\n",
    "# find pagerank scores with restart probability r\n",
    "def compute_pr(P, r, n, home, eps=1e-8):\n",
    "    \n",
    "    x = np.ones(n) / n*1.0\n",
    "\n",
    "    flag = True\n",
    "    t=0\n",
    "        \n",
    "    while flag:\n",
    "        x_new = (1-r)*P*x\n",
    "\n",
    "        x_new = x_new + home * r \n",
    "        \n",
    "        if np.linalg.norm(x_new - x,ord=1) < eps and t > 100:\n",
    "            flag = False\n",
    "        t=t+1\n",
    "        x = x_new\n",
    "    \n",
    "    return x"
   ]
  },
  {
   "cell_type": "code",
   "execution_count": 8,
   "metadata": {},
   "outputs": [],
   "source": [
    "r = 0.40\n",
    "\n",
    "rankings_hg = np.zeros((E, V)) # each row corresponds to a user. \n",
    "rankings_g = np.zeros((E, V)) # each row corresponds to a user. \n",
    "\n",
    "for i in range(max_users):\n",
    "    \n",
    "    # personalize the algorithm by restarting at any of the movies a certain user originally watched\n",
    "    home_hg = np.zeros(V)\n",
    "    \n",
    "    for j in range(V):\n",
    "        if R[i][j] != 0:\n",
    "            home_hg[j] = 1\n",
    "            \n",
    "    if np.sum(home_hg) > 0:\n",
    "        home_hg = home_hg / np.sum(home_hg)\n",
    "     \n",
    "    rankings_hg[i,:] = compute_pr(P, r, V, home_hg).flatten()\n",
    "    \n",
    "    # same process for the graph\n",
    "    home_g = np.zeros(V+E)\n",
    "    home_g[V+i] = 1\n",
    "    \n",
    "    curr_rankings_g = compute_pr(PG, r, V+E, home_g).flatten()\n",
    "    rankings_g[i,:] = curr_rankings_g[:V]"
   ]
  },
  {
   "cell_type": "markdown",
   "metadata": {},
   "source": [
    "# Evaluating rankings"
   ]
  },
  {
   "cell_type": "code",
   "execution_count": 9,
   "metadata": {},
   "outputs": [],
   "source": [
    "# Source: https://www.aaai.org/Papers/IJCAI/2007/IJCAI07-444.pdf\n",
    "def calc_avg_doa_unrated(num_users, num_movies, given_ratings, true_ratings, rankings):\n",
    "    \n",
    "    n = num_users/3\n",
    "    m = num_movies/3\n",
    "    \n",
    "    avg_doa = 0\n",
    "    total_users = 0\n",
    "    \n",
    "    total_pairs = 0\n",
    "    correct_pairs = 0\n",
    "    \n",
    "    # All pairs of movies. \n",
    "    for i in range(num_movies):\n",
    "        for j in range(i+1, num_movies):\n",
    "            for user in range(num_users):\n",
    "                \n",
    "                if given_ratings[user][i] == 0 and given_ratings[user][j] == 0:\n",
    "                    if true_ratings[user][i] < true_ratings[user][j]:\n",
    "                        total_pairs += 1\n",
    "                        if rankings[user][i] < rankings[user][j]:\n",
    "                            correct_pairs += 1\n",
    "                    elif true_ratings[user][i] > true_ratings[user][j]:\n",
    "                        total_pairs += 1\n",
    "                        if rankings[user][i] > rankings[user][j]:\n",
    "                             correct_pairs += 1  \n",
    "       \n",
    "    if total_pairs == 0:\n",
    "        return -1\n",
    "    return correct_pairs/total_pairs"
   ]
  },
  {
   "cell_type": "code",
   "execution_count": 10,
   "metadata": {},
   "outputs": [
    {
     "ename": "NameError",
     "evalue": "name 'calc_avg_doa' is not defined",
     "output_type": "error",
     "traceback": [
      "\u001b[0;31m---------------------------------------------------------------------------\u001b[0m",
      "\u001b[0;31mNameError\u001b[0m                                 Traceback (most recent call last)",
      "\u001b[0;32m<ipython-input-10-63f7d88b0775>\u001b[0m in \u001b[0;36m<module>\u001b[0;34m()\u001b[0m\n\u001b[0;32m----> 1\u001b[0;31m \u001b[0mavgdoa1\u001b[0m \u001b[0;34m=\u001b[0m \u001b[0mcalc_avg_doa\u001b[0m\u001b[0;34m(\u001b[0m\u001b[0mE\u001b[0m\u001b[0;34m,\u001b[0m \u001b[0mV\u001b[0m\u001b[0;34m,\u001b[0m \u001b[0mR\u001b[0m\u001b[0;34m,\u001b[0m \u001b[0mall_ratings\u001b[0m\u001b[0;34m,\u001b[0m \u001b[0mrankings_hg\u001b[0m\u001b[0;34m)\u001b[0m\u001b[0;34m\u001b[0m\u001b[0m\n\u001b[0m\u001b[1;32m      2\u001b[0m \u001b[0mavgdoa2\u001b[0m \u001b[0;34m=\u001b[0m \u001b[0mcalc_avg_doa\u001b[0m\u001b[0;34m(\u001b[0m\u001b[0mE\u001b[0m\u001b[0;34m,\u001b[0m \u001b[0mV\u001b[0m\u001b[0;34m,\u001b[0m \u001b[0mR\u001b[0m\u001b[0;34m,\u001b[0m \u001b[0mall_ratings\u001b[0m\u001b[0;34m,\u001b[0m \u001b[0mrankings_g\u001b[0m\u001b[0;34m)\u001b[0m\u001b[0;34m\u001b[0m\u001b[0m\n\u001b[1;32m      3\u001b[0m \u001b[0mprint\u001b[0m\u001b[0;34m(\u001b[0m\u001b[0;34m\"Hypergraph ranking DOA:\"\u001b[0m\u001b[0;34m,\u001b[0m \u001b[0mavgdoa1\u001b[0m\u001b[0;34m)\u001b[0m\u001b[0;34m\u001b[0m\u001b[0m\n\u001b[1;32m      4\u001b[0m \u001b[0mprint\u001b[0m\u001b[0;34m(\u001b[0m\u001b[0;34m\"Graph ranking DOA:\"\u001b[0m\u001b[0;34m,\u001b[0m \u001b[0mavgdoa2\u001b[0m\u001b[0;34m)\u001b[0m\u001b[0;34m\u001b[0m\u001b[0m\n",
      "\u001b[0;31mNameError\u001b[0m: name 'calc_avg_doa' is not defined"
     ]
    }
   ],
   "source": [
    "avgdoa1 = calc_avg_doa_unrated(E, V, R, all_ratings, rankings_hg)\n",
    "avgdoa2 = calc_avg_doa_unrated(E, V, R, all_ratings, rankings_g)\n",
    "print(\"Hypergraph ranking DOA:\", avgdoa1)\n",
    "print(\"Graph ranking DOA:\", avgdoa2)"
   ]
  }
 ],
 "metadata": {
  "kernelspec": {
   "display_name": "Python 3",
   "language": "python",
   "name": "python3"
  },
  "language_info": {
   "codemirror_mode": {
    "name": "ipython",
    "version": 3
   },
   "file_extension": ".py",
   "mimetype": "text/x-python",
   "name": "python",
   "nbconvert_exporter": "python",
   "pygments_lexer": "ipython3",
   "version": "3.6.6"
  }
 },
 "nbformat": 4,
 "nbformat_minor": 2
}
